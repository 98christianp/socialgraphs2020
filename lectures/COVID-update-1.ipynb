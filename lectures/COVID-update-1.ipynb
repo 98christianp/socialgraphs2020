{
 "cells": [
  {
   "cell_type": "markdown",
   "metadata": {},
   "source": [
    "# COVID-19 Update August 27, 2020\n",
    "\n",
    "Hey All! \n",
    "\n",
    "I don't know if you've noticed, but there's a global pandemic raging. \n",
    "Yes, I'm talking about good old COVID-19. \n",
    "\n",
    "### COVID-19 Facts\n",
    "It's a virus which infects people mainly through airborne spreading. \n",
    "The transmission risk is particularly serious when you're close to one another. \n",
    "And gathering indoors in large groups is another large risk since you're exposed to many other people, some of whom might be very contagious.\n",
    "Finally, speaking loudly probably also increases the risk of spreading.\n",
    "\n",
    "Those are some facts about the disease.\n",
    "\n",
    "### Teaching is starting back up\n",
    "At the same time, DTU has decided that it's important we start up classes. \n",
    "This is because staying away from other people also has its problems: is not necessarily good for your [social lives nor for your academic development](https://www.dtu.dk/nyheder/Nyhed?id={178CA039-4AB4-49B2-9867-CB961990983F}).\n",
    "\n",
    "### Why does this pose a problem?\n",
    "This leaves us at a conundrum. \n",
    "***How do we run real-life classes in a way that's as safe as possible for everyone?*** \n",
    "And this is important because in my classes, we usually work in groups.\n",
    "And when you need help, I (or the TAs) usually stick our head(s) right next to yours to see what's going on on your screen.\n",
    "Further, it's a big class that usually squeezes into a small space, especially in the beginning of every lecture, when I address the class.\n",
    "We can't do any of those things in the age of COVID.\n",
    "\n",
    "### A safe way to do things\n",
    "Below is the first iteration of my ideas for a safer version of the class.\n",
    "They are based on the feedback that you all provided (thanks for that, btw!!) through my little questionnaire.\n",
    "I'm going to list the principles in bullet-point format below\n",
    "\n",
    "* **It is possible to follow the class without showing up**. All important information, including introductory lectures will be available online - on the course website. So if you'd like, you don't have to come.\n",
    "* It is also 100% possible to show up to work at DTU and hang out with your friends. We will have the classes in person. **But we will have to change the interactions with me and the TAs** (since the sticking heads together in front of screens won't really work). Specifically there will be two ways to interact.\n",
    " - Short/easy questions will be answered via slack\n",
    " - More complex stuff will be solved via Zoom, where we can talk and do screen sharing.\n",
    " - So to be clear. The TAs and I will be in class, but we will be mainly communicating with you all via digital tools.\n",
    "* We are approximately 140 students, and we have access to 4 rooms with space for 35 people in each. **But we can't all crowd into a single room**. Thus, there will be a system: Before each class you'll need to put your name of a list of which room you're going to be staying in.\n",
    "\n",
    "Below I provide additional information about each of these three points.\n",
    "\n",
    "> BTW: Why should you listen to me about all this? \n",
    "> The answer is that because of my research expertise I've worked closely with COVID since before the epidemic started in Denmark. \n",
    "> [I'm part of the \"expert group\" at the Danish Serum Institute](https://sum.dk/Aktuelt/Nyheder/Coronavirus/2020/Maj/Adgang-til-data-og-beregninger.aspx) building mathematical models to provide guidance to the Danish government, and also on the [contact tracing APP advisory board](https://sum.dk/Aktuelt/Nyheder/Coronavirus/2020/Maj/Smittestop-app.aspx). \n",
    "> Finally, I'm also part of a [large research project](https://hope-project.dk/#/about) funded by the Carlsberg Foundation to understand the social effects of COVID-19."
   ]
  },
  {
   "cell_type": "code",
   "execution_count": null,
   "metadata": {},
   "outputs": [],
   "source": [
    "# video summary of the points above\n",
    "from IPython.display import YouTubeVideo\n",
    "YouTubeVideo(\"[placeholder]\",width=600, height=337.5)"
   ]
  },
  {
   "cell_type": "markdown",
   "metadata": {},
   "source": [
    "## New ways of interacting with me and the TAs\n",
    "\n",
    "Below, I describe my solution to new ways of getting help with the assignments.\n",
    "\n",
    "### Slack\n",
    "Based on many years of experience, I'm not a huge fan of CampusNet for class communication. So we're going to use Slack. Below is a link to sign up for the class workspace (it's socialgraphs2020.slack.com)\n",
    "\n",
    "> **[Sign-Up Link](https://join.slack.com/t/dtu-ukj1476/shared_invite/zt-gxfyombn-aLKRZ~ZhuggdHF_QvnluKQ)**\n",
    "\n",
    "We will use Slack in the following way\n",
    "* All class communication will be posted by me in the `#general` channel. You may also ask general questions about the class there.\n",
    "* Most of the questions you have about the material during the lectures should also be asked there. I'll be starting a channel for each lecture, eg. `#lecture1_questions` and so on.\n",
    "\n",
    "The reason I like to use Slack for most questions is that they'll be there permanently. \n",
    "So if you ask a question there, others can benefit from your answer. \n",
    "\n",
    "If you ask a question in the zoom chat, for example, it'll be gone when the session ends. Thus, if you use the zoom chat, we'll ask you to re-pose the question via slack.\n",
    "\n",
    "There will always be around three TAs monitoring slack for new questions.\n",
    "\n",
    "\n",
    "### Zoom\n",
    "\n",
    "Sometime, you need more than what Slack can deliver. It's a complicated thing that you need to talk about. Or your computer is acting strangely and you need screen sharing.\n",
    "\n",
    "For those times, we will use Zoom. It'll work in the following way. I'll start a session for each lecture that anyone can join. Those links will change week-to-week and I'll share them via Slack (since all communication is via slack, remember).\n",
    "\n",
    "If you need a one-on-one, the TAs or I will start up a break-out room, where we can talk and screenshare and all that. \n",
    "\n",
    "There'll always be at least one TA on Zoom."
   ]
  },
  {
   "cell_type": "code",
   "execution_count": null,
   "metadata": {},
   "outputs": [],
   "source": [
    "# video summarizing the points above\n",
    "YouTubeVideo(\"[placeholder]\",width=600, height=337.5)"
   ]
  },
  {
   "cell_type": "markdown",
   "metadata": {},
   "source": [
    "## Room booking\n",
    "\n",
    "As I said above. We are approximately 140 students, and our main space for working is 4 rooms, each of which can fit 35 individuals. \n",
    "Due to infection risk from packing into a small space, we need a simple way to distribute ourselve into those for rooms. \n",
    "\n",
    "As a first attempt, I'm going to use a simple google doc. \n",
    "If you plan to come to class, open that doc and fill in your info. \n",
    "**After each class, I'll delete all names, so it's ready for the week after.**\n",
    "It's first come first serve, and there's a link below.\n",
    "\n",
    "> **[Find your room here!](https://docs.google.com/spreadsheets/d/1J_C2qW9JJtU2kLbJWSW5-fp5xy6k4p_1qOXDXluxGV4/edit?usp=sharing)**\n",
    "\n",
    "IMPORTANT: If you come to class, **YOU HAVE TO FIRST PUT YOUR NAME IN THIS SHEET SO YOU KNOW WHERE TO GO**. And you've got to do it every week."
   ]
  },
  {
   "cell_type": "code",
   "execution_count": 2,
   "metadata": {},
   "outputs": [],
   "source": [
    "# video summary\n",
    "YouTubeVideo(\"[placeholder]\",width=600, height=337.5)"
   ]
  },
  {
   "cell_type": "code",
   "execution_count": null,
   "metadata": {},
   "outputs": [],
   "source": []
  }
 ],
 "metadata": {
  "kernelspec": {
   "display_name": "Python 3",
   "language": "python",
   "name": "python3"
  },
  "language_info": {
   "codemirror_mode": {
    "name": "ipython",
    "version": 3
   },
   "file_extension": ".py",
   "mimetype": "text/x-python",
   "name": "python",
   "nbconvert_exporter": "python",
   "pygments_lexer": "ipython3",
   "version": "3.7.7"
  }
 },
 "nbformat": 4,
 "nbformat_minor": 4
}
